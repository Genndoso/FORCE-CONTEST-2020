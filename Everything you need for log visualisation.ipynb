{
 "cells": [
  {
   "cell_type": "markdown",
   "metadata": {},
   "source": [
    "# This notebook destined for visualisation. Enjoy"
   ]
  },
  {
   "cell_type": "code",
   "execution_count": 4,
   "metadata": {},
   "outputs": [],
   "source": [
    "import pandas as pd\n",
    "import matplotlib.pyplot as plt\n",
    "import seaborn as sns\n",
    "import numpy as np\n",
    "from plotly.subplots import make_subplots \n",
    "import plotly.graph_objects as go\n",
    "import cegaltools as cwp\n",
    "\n",
    "\n",
    "import missingno as msno"
   ]
  },
  {
   "cell_type": "code",
   "execution_count": 5,
   "metadata": {},
   "outputs": [
    {
     "data": {
      "text/html": [
       "<div>\n",
       "<style scoped>\n",
       "    .dataframe tbody tr th:only-of-type {\n",
       "        vertical-align: middle;\n",
       "    }\n",
       "\n",
       "    .dataframe tbody tr th {\n",
       "        vertical-align: top;\n",
       "    }\n",
       "\n",
       "    .dataframe thead th {\n",
       "        text-align: right;\n",
       "    }\n",
       "</style>\n",
       "<table border=\"1\" class=\"dataframe\">\n",
       "  <thead>\n",
       "    <tr style=\"text-align: right;\">\n",
       "      <th></th>\n",
       "      <th>WELL</th>\n",
       "      <th>DEPTH_MD</th>\n",
       "      <th>X_LOC</th>\n",
       "      <th>Y_LOC</th>\n",
       "      <th>Z_LOC</th>\n",
       "      <th>GROUP</th>\n",
       "      <th>FORMATION</th>\n",
       "      <th>CALI</th>\n",
       "      <th>RSHA</th>\n",
       "      <th>RMED</th>\n",
       "      <th>...</th>\n",
       "      <th>ROP</th>\n",
       "      <th>DTS</th>\n",
       "      <th>DCAL</th>\n",
       "      <th>DRHO</th>\n",
       "      <th>MUDWEIGHT</th>\n",
       "      <th>RMIC</th>\n",
       "      <th>ROPA</th>\n",
       "      <th>RXO</th>\n",
       "      <th>FORCE_2020_LITHOFACIES_LITHOLOGY</th>\n",
       "      <th>FORCE_2020_LITHOFACIES_CONFIDENCE</th>\n",
       "    </tr>\n",
       "  </thead>\n",
       "  <tbody>\n",
       "    <tr>\n",
       "      <th>0</th>\n",
       "      <td>15/9-13</td>\n",
       "      <td>494.5280</td>\n",
       "      <td>437641.96875</td>\n",
       "      <td>6470972.5</td>\n",
       "      <td>-469.501831</td>\n",
       "      <td>NORDLAND GP.</td>\n",
       "      <td>NaN</td>\n",
       "      <td>19.480835</td>\n",
       "      <td>NaN</td>\n",
       "      <td>1.611410</td>\n",
       "      <td>...</td>\n",
       "      <td>34.636410</td>\n",
       "      <td>NaN</td>\n",
       "      <td>NaN</td>\n",
       "      <td>-0.574928</td>\n",
       "      <td>NaN</td>\n",
       "      <td>NaN</td>\n",
       "      <td>NaN</td>\n",
       "      <td>NaN</td>\n",
       "      <td>65000</td>\n",
       "      <td>1.0</td>\n",
       "    </tr>\n",
       "    <tr>\n",
       "      <th>1</th>\n",
       "      <td>15/9-13</td>\n",
       "      <td>494.6800</td>\n",
       "      <td>437641.96875</td>\n",
       "      <td>6470972.5</td>\n",
       "      <td>-469.653809</td>\n",
       "      <td>NORDLAND GP.</td>\n",
       "      <td>NaN</td>\n",
       "      <td>19.468800</td>\n",
       "      <td>NaN</td>\n",
       "      <td>1.618070</td>\n",
       "      <td>...</td>\n",
       "      <td>34.636410</td>\n",
       "      <td>NaN</td>\n",
       "      <td>NaN</td>\n",
       "      <td>-0.570188</td>\n",
       "      <td>NaN</td>\n",
       "      <td>NaN</td>\n",
       "      <td>NaN</td>\n",
       "      <td>NaN</td>\n",
       "      <td>65000</td>\n",
       "      <td>1.0</td>\n",
       "    </tr>\n",
       "    <tr>\n",
       "      <th>2</th>\n",
       "      <td>15/9-13</td>\n",
       "      <td>494.8320</td>\n",
       "      <td>437641.96875</td>\n",
       "      <td>6470972.5</td>\n",
       "      <td>-469.805786</td>\n",
       "      <td>NORDLAND GP.</td>\n",
       "      <td>NaN</td>\n",
       "      <td>19.468800</td>\n",
       "      <td>NaN</td>\n",
       "      <td>1.626459</td>\n",
       "      <td>...</td>\n",
       "      <td>34.779556</td>\n",
       "      <td>NaN</td>\n",
       "      <td>NaN</td>\n",
       "      <td>-0.574245</td>\n",
       "      <td>NaN</td>\n",
       "      <td>NaN</td>\n",
       "      <td>NaN</td>\n",
       "      <td>NaN</td>\n",
       "      <td>65000</td>\n",
       "      <td>1.0</td>\n",
       "    </tr>\n",
       "    <tr>\n",
       "      <th>3</th>\n",
       "      <td>15/9-13</td>\n",
       "      <td>494.9840</td>\n",
       "      <td>437641.96875</td>\n",
       "      <td>6470972.5</td>\n",
       "      <td>-469.957794</td>\n",
       "      <td>NORDLAND GP.</td>\n",
       "      <td>NaN</td>\n",
       "      <td>19.459282</td>\n",
       "      <td>NaN</td>\n",
       "      <td>1.621594</td>\n",
       "      <td>...</td>\n",
       "      <td>39.965164</td>\n",
       "      <td>NaN</td>\n",
       "      <td>NaN</td>\n",
       "      <td>-0.586315</td>\n",
       "      <td>NaN</td>\n",
       "      <td>NaN</td>\n",
       "      <td>NaN</td>\n",
       "      <td>NaN</td>\n",
       "      <td>65000</td>\n",
       "      <td>1.0</td>\n",
       "    </tr>\n",
       "    <tr>\n",
       "      <th>4</th>\n",
       "      <td>15/9-13</td>\n",
       "      <td>495.1360</td>\n",
       "      <td>437641.96875</td>\n",
       "      <td>6470972.5</td>\n",
       "      <td>-470.109772</td>\n",
       "      <td>NORDLAND GP.</td>\n",
       "      <td>NaN</td>\n",
       "      <td>19.453100</td>\n",
       "      <td>NaN</td>\n",
       "      <td>1.602679</td>\n",
       "      <td>...</td>\n",
       "      <td>57.483765</td>\n",
       "      <td>NaN</td>\n",
       "      <td>NaN</td>\n",
       "      <td>-0.597914</td>\n",
       "      <td>NaN</td>\n",
       "      <td>NaN</td>\n",
       "      <td>NaN</td>\n",
       "      <td>NaN</td>\n",
       "      <td>65000</td>\n",
       "      <td>1.0</td>\n",
       "    </tr>\n",
       "    <tr>\n",
       "      <th>...</th>\n",
       "      <td>...</td>\n",
       "      <td>...</td>\n",
       "      <td>...</td>\n",
       "      <td>...</td>\n",
       "      <td>...</td>\n",
       "      <td>...</td>\n",
       "      <td>...</td>\n",
       "      <td>...</td>\n",
       "      <td>...</td>\n",
       "      <td>...</td>\n",
       "      <td>...</td>\n",
       "      <td>...</td>\n",
       "      <td>...</td>\n",
       "      <td>...</td>\n",
       "      <td>...</td>\n",
       "      <td>...</td>\n",
       "      <td>...</td>\n",
       "      <td>...</td>\n",
       "      <td>...</td>\n",
       "      <td>...</td>\n",
       "      <td>...</td>\n",
       "    </tr>\n",
       "    <tr>\n",
       "      <th>1170506</th>\n",
       "      <td>7/1-2 S</td>\n",
       "      <td>3169.3124</td>\n",
       "      <td>NaN</td>\n",
       "      <td>NaN</td>\n",
       "      <td>NaN</td>\n",
       "      <td>VESTLAND GP.</td>\n",
       "      <td>Bryne Fm.</td>\n",
       "      <td>8.423170</td>\n",
       "      <td>NaN</td>\n",
       "      <td>NaN</td>\n",
       "      <td>...</td>\n",
       "      <td>27.674368</td>\n",
       "      <td>NaN</td>\n",
       "      <td>NaN</td>\n",
       "      <td>-0.001763</td>\n",
       "      <td>NaN</td>\n",
       "      <td>NaN</td>\n",
       "      <td>26.673708</td>\n",
       "      <td>NaN</td>\n",
       "      <td>30000</td>\n",
       "      <td>2.0</td>\n",
       "    </tr>\n",
       "    <tr>\n",
       "      <th>1170507</th>\n",
       "      <td>7/1-2 S</td>\n",
       "      <td>3169.4644</td>\n",
       "      <td>NaN</td>\n",
       "      <td>NaN</td>\n",
       "      <td>NaN</td>\n",
       "      <td>VESTLAND GP.</td>\n",
       "      <td>Bryne Fm.</td>\n",
       "      <td>8.379244</td>\n",
       "      <td>NaN</td>\n",
       "      <td>NaN</td>\n",
       "      <td>...</td>\n",
       "      <td>28.024338</td>\n",
       "      <td>NaN</td>\n",
       "      <td>NaN</td>\n",
       "      <td>-0.007600</td>\n",
       "      <td>NaN</td>\n",
       "      <td>NaN</td>\n",
       "      <td>26.840818</td>\n",
       "      <td>NaN</td>\n",
       "      <td>65030</td>\n",
       "      <td>2.0</td>\n",
       "    </tr>\n",
       "    <tr>\n",
       "      <th>1170508</th>\n",
       "      <td>7/1-2 S</td>\n",
       "      <td>3169.6164</td>\n",
       "      <td>NaN</td>\n",
       "      <td>NaN</td>\n",
       "      <td>NaN</td>\n",
       "      <td>VESTLAND GP.</td>\n",
       "      <td>Bryne Fm.</td>\n",
       "      <td>8.350248</td>\n",
       "      <td>NaN</td>\n",
       "      <td>NaN</td>\n",
       "      <td>...</td>\n",
       "      <td>28.091282</td>\n",
       "      <td>NaN</td>\n",
       "      <td>NaN</td>\n",
       "      <td>-0.018297</td>\n",
       "      <td>NaN</td>\n",
       "      <td>NaN</td>\n",
       "      <td>27.007942</td>\n",
       "      <td>NaN</td>\n",
       "      <td>65030</td>\n",
       "      <td>2.0</td>\n",
       "    </tr>\n",
       "    <tr>\n",
       "      <th>1170509</th>\n",
       "      <td>7/1-2 S</td>\n",
       "      <td>3169.7684</td>\n",
       "      <td>NaN</td>\n",
       "      <td>NaN</td>\n",
       "      <td>NaN</td>\n",
       "      <td>VESTLAND GP.</td>\n",
       "      <td>Bryne Fm.</td>\n",
       "      <td>8.313779</td>\n",
       "      <td>NaN</td>\n",
       "      <td>NaN</td>\n",
       "      <td>...</td>\n",
       "      <td>28.019775</td>\n",
       "      <td>NaN</td>\n",
       "      <td>NaN</td>\n",
       "      <td>-0.011438</td>\n",
       "      <td>NaN</td>\n",
       "      <td>NaN</td>\n",
       "      <td>27.175179</td>\n",
       "      <td>NaN</td>\n",
       "      <td>65030</td>\n",
       "      <td>2.0</td>\n",
       "    </tr>\n",
       "    <tr>\n",
       "      <th>1170510</th>\n",
       "      <td>7/1-2 S</td>\n",
       "      <td>3169.9204</td>\n",
       "      <td>NaN</td>\n",
       "      <td>NaN</td>\n",
       "      <td>NaN</td>\n",
       "      <td>VESTLAND GP.</td>\n",
       "      <td>Bryne Fm.</td>\n",
       "      <td>8.294910</td>\n",
       "      <td>NaN</td>\n",
       "      <td>NaN</td>\n",
       "      <td>...</td>\n",
       "      <td>25.985943</td>\n",
       "      <td>NaN</td>\n",
       "      <td>NaN</td>\n",
       "      <td>-0.011398</td>\n",
       "      <td>NaN</td>\n",
       "      <td>NaN</td>\n",
       "      <td>27.342442</td>\n",
       "      <td>NaN</td>\n",
       "      <td>65030</td>\n",
       "      <td>2.0</td>\n",
       "    </tr>\n",
       "  </tbody>\n",
       "</table>\n",
       "<p>1170511 rows × 29 columns</p>\n",
       "</div>"
      ],
      "text/plain": [
       "            WELL   DEPTH_MD         X_LOC      Y_LOC       Z_LOC  \\\n",
       "0        15/9-13   494.5280  437641.96875  6470972.5 -469.501831   \n",
       "1        15/9-13   494.6800  437641.96875  6470972.5 -469.653809   \n",
       "2        15/9-13   494.8320  437641.96875  6470972.5 -469.805786   \n",
       "3        15/9-13   494.9840  437641.96875  6470972.5 -469.957794   \n",
       "4        15/9-13   495.1360  437641.96875  6470972.5 -470.109772   \n",
       "...          ...        ...           ...        ...         ...   \n",
       "1170506  7/1-2 S  3169.3124           NaN        NaN         NaN   \n",
       "1170507  7/1-2 S  3169.4644           NaN        NaN         NaN   \n",
       "1170508  7/1-2 S  3169.6164           NaN        NaN         NaN   \n",
       "1170509  7/1-2 S  3169.7684           NaN        NaN         NaN   \n",
       "1170510  7/1-2 S  3169.9204           NaN        NaN         NaN   \n",
       "\n",
       "                GROUP  FORMATION       CALI  RSHA      RMED  ...        ROP  \\\n",
       "0        NORDLAND GP.        NaN  19.480835   NaN  1.611410  ...  34.636410   \n",
       "1        NORDLAND GP.        NaN  19.468800   NaN  1.618070  ...  34.636410   \n",
       "2        NORDLAND GP.        NaN  19.468800   NaN  1.626459  ...  34.779556   \n",
       "3        NORDLAND GP.        NaN  19.459282   NaN  1.621594  ...  39.965164   \n",
       "4        NORDLAND GP.        NaN  19.453100   NaN  1.602679  ...  57.483765   \n",
       "...               ...        ...        ...   ...       ...  ...        ...   \n",
       "1170506  VESTLAND GP.  Bryne Fm.   8.423170   NaN       NaN  ...  27.674368   \n",
       "1170507  VESTLAND GP.  Bryne Fm.   8.379244   NaN       NaN  ...  28.024338   \n",
       "1170508  VESTLAND GP.  Bryne Fm.   8.350248   NaN       NaN  ...  28.091282   \n",
       "1170509  VESTLAND GP.  Bryne Fm.   8.313779   NaN       NaN  ...  28.019775   \n",
       "1170510  VESTLAND GP.  Bryne Fm.   8.294910   NaN       NaN  ...  25.985943   \n",
       "\n",
       "         DTS  DCAL      DRHO  MUDWEIGHT  RMIC       ROPA  RXO  \\\n",
       "0        NaN   NaN -0.574928        NaN   NaN        NaN  NaN   \n",
       "1        NaN   NaN -0.570188        NaN   NaN        NaN  NaN   \n",
       "2        NaN   NaN -0.574245        NaN   NaN        NaN  NaN   \n",
       "3        NaN   NaN -0.586315        NaN   NaN        NaN  NaN   \n",
       "4        NaN   NaN -0.597914        NaN   NaN        NaN  NaN   \n",
       "...      ...   ...       ...        ...   ...        ...  ...   \n",
       "1170506  NaN   NaN -0.001763        NaN   NaN  26.673708  NaN   \n",
       "1170507  NaN   NaN -0.007600        NaN   NaN  26.840818  NaN   \n",
       "1170508  NaN   NaN -0.018297        NaN   NaN  27.007942  NaN   \n",
       "1170509  NaN   NaN -0.011438        NaN   NaN  27.175179  NaN   \n",
       "1170510  NaN   NaN -0.011398        NaN   NaN  27.342442  NaN   \n",
       "\n",
       "         FORCE_2020_LITHOFACIES_LITHOLOGY  FORCE_2020_LITHOFACIES_CONFIDENCE  \n",
       "0                                   65000                                1.0  \n",
       "1                                   65000                                1.0  \n",
       "2                                   65000                                1.0  \n",
       "3                                   65000                                1.0  \n",
       "4                                   65000                                1.0  \n",
       "...                                   ...                                ...  \n",
       "1170506                             30000                                2.0  \n",
       "1170507                             65030                                2.0  \n",
       "1170508                             65030                                2.0  \n",
       "1170509                             65030                                2.0  \n",
       "1170510                             65030                                2.0  \n",
       "\n",
       "[1170511 rows x 29 columns]"
      ]
     },
     "execution_count": 5,
     "metadata": {},
     "output_type": "execute_result"
    }
   ],
   "source": [
    "data = pd.read_csv('train.csv',sep=';')\n",
    "\n",
    "data"
   ]
  },
  {
   "cell_type": "code",
   "execution_count": 25,
   "metadata": {},
   "outputs": [
    {
     "data": {
      "text/plain": [
       "count    987857.000000\n",
       "mean          0.012196\n",
       "std           7.477798\n",
       "min       -7429.338867\n",
       "25%          -0.009253\n",
       "50%           0.001752\n",
       "75%           0.021702\n",
       "max           2.836938\n",
       "Name: DRHO, dtype: float64"
      ]
     },
     "execution_count": 25,
     "metadata": {},
     "output_type": "execute_result"
    }
   ],
   "source": [
    "data['DRHO'].describe()"
   ]
  },
  {
   "cell_type": "markdown",
   "metadata": {},
   "source": [
    "Inspecting available logs and interpretations (from the starter notebook)\n",
    "The data contains the metadata columns\n",
    "\n",
    "WELL: well name\n",
    "DEPTH_MD: measured depth\n",
    "X_LOC: UTM X coordinate\n",
    "Y_LOC: UTM Y coordinate\n",
    "Z_LOC: DEPTH\n",
    "GROUP: NPD lithostratigraphy group\n",
    "FORMATION: NPD lithostratgraphy formation\n",
    "The data contains the well log curves. For example the following:\n",
    "\n",
    "BS: Bit Size\n",
    "CALI: Caliper\n",
    "RDEP: Deep Resistivity\n",
    "RHOB: Bulk Density\n",
    "GR: Raw gamma data\n",
    "SGR: Spectral Gamma Ray\n",
    "RMED: Medium Resistivity\n",
    "ROP: Rate of Penetration\n",
    "NPHI: Neutron Porosity\n",
    "PEF: Photoelectric Absorption Factor\n",
    "RSHA: Shallow Resistivity\n",
    "DTS: Sonic (Sheer Slowness)\n",
    "DTC: Sonic (Compressional Slowness)\n",
    "See contest page for full list.\n",
    "\n",
    "as well as the interpretation\n",
    "\n",
    "FORCE_2020_LITHOFACIES_LITHOLOGY: lithology class label\n",
    "FORCE_2020_LITHOFACIES_CONFIDENCE: confidence in lithology interpretation (1: high, 2: medium, 3: low)\n",
    "There is a total of 93 wells in the training dataset. The WELL column is included so the data can be separated per well. This will be necessary for any \"windowed\" approaches where we use non-local information in the ML features."
   ]
  },
  {
   "cell_type": "code",
   "execution_count": 22,
   "metadata": {},
   "outputs": [
    {
     "data": {
      "text/plain": [
       "Text(0, 0.5, 'Процент заполненности (\\\\%)')"
      ]
     },
     "execution_count": 22,
     "metadata": {},
     "output_type": "execute_result"
    },
    {
     "data": {
      "image/png": "[encoded data removed]",
      "text/plain": [
       "<Figure size 1008x504 with 1 Axes>"
      ]
     },
     "metadata": {
      "needs_background": "light"
     },
     "output_type": "display_data"
    }
   ],
   "source": [
    "occurences = np.zeros(25)\n",
    "for well in data['WELL'].unique():\n",
    "    occurences += data[data['WELL'] == well].isna().all().astype(int).values[2:-2]\n",
    "fig, ax = plt.subplots(1, 1, figsize=(14, 7))\n",
    "ax.bar(x=np.arange(occurences.shape[0]), height=(data.WELL.unique().shape[0]-occurences)/data.WELL.unique().shape[0]*100.0)\n",
    "ax.set_xticklabels(data.columns[2:-2], rotation=45)\n",
    "ax.set_xticks(np.arange(occurences.shape[0]))\n",
    "ax.set_ylabel('Процент заполненности (\\%)')"
   ]
  },
  {
   "cell_type": "markdown",
   "metadata": {},
   "source": [
    "# Interactive visualization of missing logs"
   ]
  },
  {
   "cell_type": "code",
   "execution_count": 8,
   "metadata": {},
   "outputs": [],
   "source": [
    "import ipywidgets as widgets\n",
    "from ipywidgets import interactive, interact"
   ]
  },
  {
   "cell_type": "code",
   "execution_count": 9,
   "metadata": {},
   "outputs": [
    {
     "data": {
      "text/plain": [
       "array(['15/9-13', '15/9-15', '15/9-17', '16/1-2', '16/1-6 A', '16/10-1',\n",
       "       '16/10-2', '16/10-3', '16/10-5', '16/11-1 ST3', '16/2-11 A',\n",
       "       '16/2-16', '16/2-6', '16/4-1', '16/5-3', '16/7-4', '16/7-5',\n",
       "       '16/8-1', '17/11-1', '25/11-15', '25/11-19 S', '25/11-5',\n",
       "       '25/2-13 T4', '25/2-14', '25/2-7', '25/3-1', '25/4-5', '25/5-1',\n",
       "       '25/5-4', '25/6-1', '25/6-2', '25/6-3', '25/7-2', '25/8-5 S',\n",
       "       '25/8-7', '25/9-1', '26/4-1', '29/6-1', '30/3-3', '30/3-5 S',\n",
       "       '30/6-5', '31/2-1', '31/2-19 S', '31/2-7', '31/2-8', '31/2-9',\n",
       "       '31/3-1', '31/3-2', '31/3-3', '31/3-4', '31/4-10', '31/4-5',\n",
       "       '31/5-4 S', '31/6-5', '31/6-8', '32/2-1', '33/5-2', '33/6-3 S',\n",
       "       '33/9-1', '33/9-17', '34/10-19', '34/10-21', '34/10-33',\n",
       "       '34/10-35', '34/11-1', '34/11-2 S', '34/12-1', '34/2-4',\n",
       "       '34/3-1 A', '34/4-10 R', '34/5-1 A', '34/5-1 S', '34/7-13',\n",
       "       '34/7-20', '34/7-21', '34/8-1', '34/8-3', '34/8-7 R', '35/11-1',\n",
       "       '35/11-10', '35/11-11', '35/11-12', '35/11-13', '35/11-15 S',\n",
       "       '35/11-6', '35/11-7', '35/12-1', '35/3-7 S', '35/4-1', '35/8-4',\n",
       "       '35/8-6 S', '35/9-10 S', '35/9-2', '35/9-5', '35/9-6 S', '36/7-3',\n",
       "       '7/1-1', '7/1-2 S'], dtype=object)"
      ]
     },
     "execution_count": 9,
     "metadata": {},
     "output_type": "execute_result"
    }
   ],
   "source": [
    "wells = data['WELL'].unique()\n",
    "wells"
   ]
  },
  {
   "cell_type": "code",
   "execution_count": 10,
   "metadata": {},
   "outputs": [
    {
     "data": {
      "application/vnd.jupyter.widget-view+json": {
       "model_id": "f5303cb790954d34ab429ec6bf893e1f",
       "version_major": 2,
       "version_minor": 0
      },
      "text/plain": [
       "interactive(children=(Text(value='', description='WELL'), Output()), _dom_classes=('widget-interact',))"
      ]
     },
     "metadata": {},
     "output_type": "display_data"
    }
   ],
   "source": [
    "@interact\n",
    "def data_well_view(WELL=''):\n",
    "    return data[data['WELL']==WELL]"
   ]
  },
  {
   "cell_type": "code",
   "execution_count": 11,
   "metadata": {},
   "outputs": [],
   "source": [
    "well_items = data['WELL'].unique()"
   ]
  },
  {
   "cell_type": "code",
   "execution_count": 12,
   "metadata": {},
   "outputs": [
    {
     "data": {
      "application/vnd.jupyter.widget-view+json": {
       "model_id": "2451226355014b17881bbba74280d6a6",
       "version_major": 2,
       "version_minor": 0
      },
      "text/plain": [
       "interactive(children=(Select(description='WELL', options=('15/9-13', '15/9-15', '15/9-17', '16/1-2', '16/1-6 A…"
      ]
     },
     "metadata": {},
     "output_type": "display_data"
    }
   ],
   "source": [
    "def plot_missingno(w):  \n",
    "    msno.matrix(w, color=(0., 0., 0.45))   \n",
    "    fig = plt.gcf()\n",
    "    fig.set_size_inches(20, np.round(len(w)/750)) # plot heigth proportional to selected well's length (in rows)\n",
    "    plt.show()\n",
    "    \n",
    "def data_missingno_view(WELL=''):\n",
    "    return plot_missingno(data.loc[data['WELL']==WELL])\n",
    "\n",
    "well_select = widgets.Select(options=well_items)\n",
    "interactive(data_missingno_view, WELL=well_select)"
   ]
  },
  {
   "cell_type": "markdown",
   "metadata": {},
   "source": [
    "# Interactive well plotting based on plotting routine from the starter notebook"
   ]
  },
  {
   "cell_type": "code",
   "execution_count": 13,
   "metadata": {},
   "outputs": [],
   "source": [
    "def plot_well(w):\n",
    "    fig, axs = plt.subplots(1, len(w.columns)-9, sharey=True)\n",
    "    fig.set_size_inches(20, np.round(len(w)/750))\n",
    "    for ic, col in enumerate(set(w.columns)-set(['DEPTH_MD', 'FORCE_2020_LITHOFACIES_LITHOLOGY',\n",
    "                                                         'FORCE_2020_LITHOFACIES_CONFIDENCE', 'WELL', 'GROUP', 'FORMATION',\n",
    "                                                        'X_LOC', 'Y_LOC', 'Z_LOC'])):\n",
    "        axs[ic].plot(w[col], w['DEPTH_MD'])\n",
    "        axs[ic].set_xlabel(col)\n",
    "    axs[0].set_ylim(w['DEPTH_MD'].values[-1], w['DEPTH_MD'].values[0])\n",
    "    plt.show()"
   ]
  },
  {
   "cell_type": "code",
   "execution_count": 14,
   "metadata": {},
   "outputs": [
    {
     "data": {
      "application/vnd.jupyter.widget-view+json": {
       "model_id": "77769e18ae4f47538747c1f0de563230",
       "version_major": 2,
       "version_minor": 0
      },
      "text/plain": [
       "interactive(children=(Select(description='WELL', options=('15/9-13', '15/9-15', '15/9-17', '16/1-2', '16/1-6 A…"
      ]
     },
     "metadata": {},
     "output_type": "display_data"
    }
   ],
   "source": [
    "def well_plot_view(WELL=''):\n",
    "    return plot_well(data.loc[data['WELL']==WELL])\n",
    "\n",
    "well_select = widgets.Select(options=well_items)\n",
    "interactive(well_plot_view, WELL=well_select)"
   ]
  },
  {
   "cell_type": "markdown",
   "metadata": {},
   "source": [
    "# Interactive well plotting based on plotting routine from the Cegal notebook"
   ]
  },
  {
   "cell_type": "code",
   "execution_count": 15,
   "metadata": {},
   "outputs": [],
   "source": [
    "from cegaltools.plotting import CegalWellPlotter as cwp"
   ]
  },
  {
   "cell_type": "code",
   "execution_count": 16,
   "metadata": {},
   "outputs": [],
   "source": [
    "data['FORCE_2020_LITHOFACIES_CONFIDENCE'] = 1/data['FORCE_2020_LITHOFACIES_CONFIDENCE']"
   ]
  },
  {
   "cell_type": "code",
   "execution_count": 19,
   "metadata": {},
   "outputs": [],
   "source": [
    "def plot_well_cegal(w):\n",
    "    cwp.plot_logs(df=w.set_index('DEPTH_MD'),\n",
    "                  logs=['NPHI', 'RHOB', 'GR', 'NPHI', 'DTC', 'DTS', 'ROP','SP','DRHO'], \n",
    "                  log_scale_logs=['RMED', 'RDEP'],\n",
    "                  lithology_logs='FORCE_2020_LITHOFACIES_LITHOLOGY', \n",
    "                  lithology_proba_logs='FORCE_2020_LITHOFACIES_CONFIDENCE')"
   ]
  },
  {
   "cell_type": "code",
   "execution_count": 20,
   "metadata": {},
   "outputs": [
    {
     "data": {
      "application/vnd.jupyter.widget-view+json": {
       "model_id": "8b0baf63e60a4b1b9bd35a344f394624",
       "version_major": 2,
       "version_minor": 0
      },
      "text/plain": [
       "interactive(children=(Select(description='WELL', options=('15/9-13', '15/9-15', '15/9-17', '16/1-2', '16/1-6 A…"
      ]
     },
     "metadata": {},
     "output_type": "display_data"
    }
   ],
   "source": [
    "def well_plot_cegal_view(WELL=''):\n",
    "    return plot_well_cegal(data.loc[data['WELL']==WELL])\n",
    "\n",
    "well_select = widgets.Select(options=well_items)\n",
    "interactive(well_plot_cegal_view, WELL=well_select)"
   ]
  },
  {
   "cell_type": "code",
   "execution_count": 23,
   "metadata": {},
   "outputs": [
    {
     "data": {
      "application/vnd.jupyter.widget-view+json": {
       "model_id": "76079438ddd24a5faf424013539a650a",
       "version_major": 2,
       "version_minor": 0
      },
      "text/plain": [
       "interactive(children=(Select(description='WELL', options=('15/9-13', '15/9-15', '15/9-17', '16/1-2', '16/1-6 A…"
      ]
     },
     "metadata": {},
     "output_type": "display_data"
    }
   ],
   "source": [
    "def CorrMatrix(dataset):\n",
    "    \n",
    "    corr = dataset.corr(method='spearman')\n",
    "    x = plt.figure(figsize=(20,12))\n",
    "    ax = sns.heatmap(\n",
    "    corr, \n",
    "    vmin=-1, vmax=1, center=0,\n",
    "    cmap=sns.diverging_palette(20, 220, n=200, ),\n",
    "    square=True, \n",
    " )\n",
    "    ax.set_xticklabels(\n",
    "    ax.get_xticklabels(),\n",
    "    rotation=45,\n",
    "    horizontalalignment='right'\n",
    " );\n",
    "    \n",
    "    \n",
    "\n",
    "    \n",
    "def corr_plot(WELL=''):\n",
    "    return CorrMatrix(data.loc[data['WELL']==WELL])\n",
    "\n",
    "well_select = widgets.Select(options=well_items)\n",
    "interactive(corr_plot, WELL=well_select)"
   ]
  },
  {
   "cell_type": "code",
   "execution_count": null,
   "metadata": {},
   "outputs": [],
   "source": []
  },
  {
   "cell_type": "code",
   "execution_count": null,
   "metadata": {},
   "outputs": [],
   "source": []
  },
  {
   "cell_type": "code",
   "execution_count": null,
   "metadata": {},
   "outputs": [],
   "source": []
  }
 ],
 "metadata": {
  "kernelspec": {
   "display_name": "Python 3",
   "language": "python",
   "name": "python3"
  },
  "language_info": {
   "codemirror_mode": {
    "name": "ipython",
    "version": 3
   },
   "file_extension": ".py",
   "mimetype": "text/x-python",
   "name": "python",
   "nbconvert_exporter": "python",
   "pygments_lexer": "ipython3",
   "version": "3.7.6"
  },
  "toc": {
   "base_numbering": 1,
   "nav_menu": {},
   "number_sections": true,
   "sideBar": true,
   "skip_h1_title": false,
   "title_cell": "Table of Contents",
   "title_sidebar": "Contents",
   "toc_cell": false,
   "toc_position": {},
   "toc_section_display": true,
   "toc_window_display": false
  }
 },
 "nbformat": 4,
 "nbformat_minor": 4
}
